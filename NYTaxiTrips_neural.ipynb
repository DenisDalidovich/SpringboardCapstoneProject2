{
 "cells": [
  {
   "cell_type": "markdown",
   "metadata": {},
   "source": [
    "## Predictive Modelling Multilayer Perceptron"
   ]
  },
  {
   "cell_type": "markdown",
   "metadata": {},
   "source": [
    "In this section we will use the Multilayer Perceptron Regression to predict the trip duration given the dataset prepared earlier. From the very beginning we will be using the truncated dataset in which the geographical distance between pickup and dropoff locations is smaller than 60 km, and the trip durations are limited to 6 hours."
   ]
  },
  {
   "cell_type": "code",
   "execution_count": 1,
   "metadata": {
    "collapsed": true
   },
   "outputs": [],
   "source": [
    "import time\n",
    "start_time = time.time()"
   ]
  },
  {
   "cell_type": "code",
   "execution_count": 2,
   "metadata": {
    "collapsed": true
   },
   "outputs": [],
   "source": [
    "import pandas as pd\n",
    "import numpy as np\n",
    "\n",
    "import matplotlib.pyplot as plt"
   ]
  },
  {
   "cell_type": "code",
   "execution_count": 3,
   "metadata": {
    "collapsed": true
   },
   "outputs": [],
   "source": [
    "#import the garbage collection module\n",
    "\n",
    "import gc\n",
    "gc.enable()"
   ]
  },
  {
   "cell_type": "code",
   "execution_count": 4,
   "metadata": {
    "collapsed": false
   },
   "outputs": [
    {
     "name": "stderr",
     "output_type": "stream",
     "text": [
      "C:\\ProgramData\\Anaconda3\\lib\\site-packages\\sklearn\\cross_validation.py:44: DeprecationWarning: This module was deprecated in version 0.18 in favor of the model_selection module into which all the refactored classes and functions are moved. Also note that the interface of the new CV iterators are different from that of this module. This module will be removed in 0.20.\n",
      "  \"This module will be removed in 0.20.\", DeprecationWarning)\n"
     ]
    }
   ],
   "source": [
    "from sklearn.neural_network import MLPRegressor\n",
    "\n",
    "from sklearn.cross_validation import train_test_split\n",
    "from sklearn.preprocessing import StandardScaler\n",
    "from sklearn.metrics import mean_squared_error, r2_score\n",
    "\n",
    "#from sklearn.model_selection import GridSearchCV\n",
    "\n",
    "#from sklearn.preprocessing import PolynomialFeatures"
   ]
  },
  {
   "cell_type": "code",
   "execution_count": 5,
   "metadata": {
    "collapsed": false
   },
   "outputs": [
    {
     "data": {
      "text/plain": [
       "113.12109375"
      ]
     },
     "execution_count": 5,
     "metadata": {},
     "output_type": "execute_result"
    }
   ],
   "source": [
    "#import the module that shows the memory usage\n",
    "\n",
    "import os, psutil\n",
    "\n",
    "def usage():\n",
    "    process = psutil.Process(os.getpid())\n",
    "    return process.memory_info()[0] / float(2 ** 20)\n",
    "    \n",
    "usage()"
   ]
  },
  {
   "cell_type": "code",
   "execution_count": 6,
   "metadata": {
    "collapsed": false
   },
   "outputs": [
    {
     "data": {
      "text/plain": [
       "268.328125"
      ]
     },
     "execution_count": 6,
     "metadata": {},
     "output_type": "execute_result"
    }
   ],
   "source": [
    "df_modif = pd.read_csv('NYCTripDuration_modified.csv')\n",
    "\n",
    "#df_modif.columns\n",
    "df_modif = df_modif.drop(['Unnamed: 0','effective_speed(kmph)'], axis = 1)\n",
    "\n",
    "usage()"
   ]
  },
  {
   "cell_type": "code",
   "execution_count": 7,
   "metadata": {
    "collapsed": false
   },
   "outputs": [
    {
     "data": {
      "text/plain": [
       "7"
      ]
     },
     "execution_count": 7,
     "metadata": {},
     "output_type": "execute_result"
    }
   ],
   "source": [
    "#shuffle the dataframe arbitrarily\n",
    "df_modif.sample(frac=1, random_state = 20).reset_index(drop=True, inplace = True)\n",
    "\n",
    "gc.collect()"
   ]
  },
  {
   "cell_type": "code",
   "execution_count": 8,
   "metadata": {
    "collapsed": true
   },
   "outputs": [],
   "source": [
    "# Create the function that calculates the accuracy of the predicted quantities.\n",
    "\n",
    "def accur_func(y_pred, y):\n",
    "    return 1.0 - (np.abs(y_pred - y)/np.abs(y))"
   ]
  },
  {
   "cell_type": "code",
   "execution_count": 9,
   "metadata": {
    "collapsed": true
   },
   "outputs": [],
   "source": [
    "# create the list containing the relevant columns\n",
    "column_names = df_modif.drop('trip_duration(hrs)',axis =1).columns.values"
   ]
  },
  {
   "cell_type": "code",
   "execution_count": 10,
   "metadata": {
    "collapsed": true
   },
   "outputs": [],
   "source": [
    "df_modif = df_modif[(df_modif['geographical_dist(km)'] < 60) & \\\n",
    "                    (df_modif['trip_duration(hrs)'] < 6)]\n",
    "\n",
    "X = df_modif.drop('trip_duration(hrs)', axis = 1).values\n",
    "\n",
    "y = df_modif['trip_duration(hrs)'].values"
   ]
  },
  {
   "cell_type": "code",
   "execution_count": 11,
   "metadata": {
    "collapsed": false
   },
   "outputs": [
    {
     "data": {
      "text/plain": [
       "423.33203125"
      ]
     },
     "execution_count": 11,
     "metadata": {},
     "output_type": "execute_result"
    }
   ],
   "source": [
    "gc.collect()\n",
    "usage()"
   ]
  },
  {
   "cell_type": "markdown",
   "metadata": {},
   "source": [
    "Let us start with the regressor in which there is one hidden layer with 100 elements (default value) and each element has the rectified linear unit (ReLU) activation function. The regularization parameter alpha is set to 0.001 which is also the default value. We use the default 'adam' solver, a kind of stochastic gradient descent based optimizer. The results show that despite the relatively large running time, MLP Regressor gives the coefficient of determination equal to 0.769, while the mean and standard deviations are predicted with the accuracies of 99.46 and 85.08 percent respectively.  "
   ]
  },
  {
   "cell_type": "code",
   "execution_count": 12,
   "metadata": {
    "collapsed": false
   },
   "outputs": [
    {
     "name": "stderr",
     "output_type": "stream",
     "text": [
      "C:\\ProgramData\\Anaconda3\\lib\\site-packages\\sklearn\\preprocessing\\data.py:586: DeprecationWarning: Passing 1d arrays as data is deprecated in 0.17 and will raise ValueError in 0.19. Reshape your data either using X.reshape(-1, 1) if your data has a single feature or X.reshape(1, -1) if it contains a single sample.\n",
      "  warnings.warn(DEPRECATION_MSG_1D, DeprecationWarning)\n",
      "C:\\ProgramData\\Anaconda3\\lib\\site-packages\\sklearn\\preprocessing\\data.py:649: DeprecationWarning: Passing 1d arrays as data is deprecated in 0.17 and will raise ValueError in 0.19. Reshape your data either using X.reshape(-1, 1) if your data has a single feature or X.reshape(1, -1) if it contains a single sample.\n",
      "  warnings.warn(DEPRECATION_MSG_1D, DeprecationWarning)\n"
     ]
    },
    {
     "name": "stdout",
     "output_type": "stream",
     "text": [
      "Training score: 0.76889132659\n",
      "Test score: 0.765317259036\n",
      "\n",
      "\n",
      "Actual mean of the test set: 0.232793845736\n",
      "Predicted mean of the test set: 0.23311303342\n",
      "Accuracy of prediction of the mean: 0.998628882637\n",
      "\n",
      "\n",
      "Actual std of the test set: 0.18405219248\n",
      "Predicted std of the test set: 0.157547640479\n",
      "Accuracy of prediction of the std: 0.855994369618\n",
      "\n",
      "\n",
      "Wall time: 6min 13s\n"
     ]
    }
   ],
   "source": [
    "%%time\n",
    "\n",
    "\n",
    "mlpreg = MLPRegressor(alpha = 0.0001, hidden_layer_sizes=(100, ), activation='relu',\n",
    "                      learning_rate = 'adaptive', learning_rate_init=0.001)\n",
    "\n",
    "# use the StandardScaler\n",
    "X =  StandardScaler().fit_transform(X)\n",
    "scaler = StandardScaler().fit(y)\n",
    "y =  scaler.transform(y)\n",
    "\n",
    "\n",
    "X_train, X_test, y_train, y_test = train_test_split(X, y, test_size=0.3, random_state = 45, \n",
    "                                                    stratify = None)\n",
    "\n",
    "mlpreg.fit(X_train, y_train)\n",
    "\n",
    "\n",
    "y_train_pred = mlpreg.predict(X_train)\n",
    "y_test_pred = mlpreg.predict(X_test)\n",
    "\n",
    "# compute the coefficients of determination\n",
    "mlpreg_training_score = mlpreg.score(X_train, y_train)\n",
    "mlpreg_test_score = mlpreg.score(X_test, y_test)\n",
    "\n",
    "#scale back the target variable\n",
    "y_test = scaler.inverse_transform(y_test)\n",
    "y_test_pred = scaler.inverse_transform(y_test_pred)\n",
    "\n",
    "\n",
    "y_test_mean_mlp =  y_test.mean()\n",
    "y_test_pred_mean_mlp =  y_test_pred.mean()\n",
    "y_test_mean_accur_mlp = accur_func(y_test_pred_mean_mlp, y_test_mean_mlp)\n",
    "\n",
    "y_test_std_mlp =  y_test.std()\n",
    "y_test_pred_std_mlp =  y_test_pred.std()\n",
    "y_test_std_accur_mlp = accur_func(y_test_pred_std_mlp, y_test_std_mlp)\n",
    "\n",
    "\n",
    "print('Training score:', mlpreg_training_score)\n",
    "print('Test score:', mlpreg_test_score)\n",
    "\n",
    "\n",
    "print('\\n')\n",
    "print('Actual mean of the test set:', y_test_mean_mlp)\n",
    "print('Predicted mean of the test set:', y_test_pred_mean_mlp)\n",
    "print('Accuracy of prediction of the mean:', y_test_mean_accur_mlp)\n",
    "\n",
    "print('\\n')\n",
    "print('Actual std of the test set:', y_test_std_mlp)\n",
    "print('Predicted std of the test set:', y_test_pred_std_mlp)\n",
    "print('Accuracy of prediction of the std:', y_test_std_accur_mlp)\n",
    "print('\\n')"
   ]
  },
  {
   "cell_type": "code",
   "execution_count": 13,
   "metadata": {
    "collapsed": false
   },
   "outputs": [
    {
     "data": {
      "text/plain": [
       "0"
      ]
     },
     "execution_count": 13,
     "metadata": {},
     "output_type": "execute_result"
    }
   ],
   "source": [
    "del(X, y, X_train, X_test, y_train, y_test)\n",
    "gc.collect()"
   ]
  },
  {
   "cell_type": "markdown",
   "metadata": {},
   "source": [
    "We see that the MLP Regressor shows reasonably good results. However, can we improve the results further, for example, by adding one more hidden layer and changing the activation function for the elements in layers? Let's add one more layer with 100 elements, and employ the 'tanh' activation function. The motivation for the latter step is that the 'tanh' activation function, contrary to the 'relu' one, does not nullify the negative inputs to layers that are possible given the substantial number of negative weights seen in the Elastic Net regression study. As a result of changing the activation function and adding the second layer, we are able to reach the coefficient of determination equal to 0.798 and the accuracy of predicting the mean and std equal to 99.80 and 87.94 percent respectively. We see also that the amount of time necessary to run the computations nearly quadrupled."
   ]
  },
  {
   "cell_type": "code",
   "execution_count": 14,
   "metadata": {
    "collapsed": true
   },
   "outputs": [],
   "source": [
    "df_modif = df_modif[(df_modif['geographical_dist(km)'] < 60) & \\\n",
    "                    (df_modif['trip_duration(hrs)'] < 6)]\n",
    "\n",
    "X = df_modif.drop('trip_duration(hrs)', axis = 1).values\n",
    "\n",
    "y = df_modif['trip_duration(hrs)'].values"
   ]
  },
  {
   "cell_type": "code",
   "execution_count": 15,
   "metadata": {
    "collapsed": false
   },
   "outputs": [
    {
     "name": "stderr",
     "output_type": "stream",
     "text": [
      "C:\\ProgramData\\Anaconda3\\lib\\site-packages\\sklearn\\preprocessing\\data.py:586: DeprecationWarning: Passing 1d arrays as data is deprecated in 0.17 and will raise ValueError in 0.19. Reshape your data either using X.reshape(-1, 1) if your data has a single feature or X.reshape(1, -1) if it contains a single sample.\n",
      "  warnings.warn(DEPRECATION_MSG_1D, DeprecationWarning)\n",
      "C:\\ProgramData\\Anaconda3\\lib\\site-packages\\sklearn\\preprocessing\\data.py:649: DeprecationWarning: Passing 1d arrays as data is deprecated in 0.17 and will raise ValueError in 0.19. Reshape your data either using X.reshape(-1, 1) if your data has a single feature or X.reshape(1, -1) if it contains a single sample.\n",
      "  warnings.warn(DEPRECATION_MSG_1D, DeprecationWarning)\n"
     ]
    },
    {
     "name": "stdout",
     "output_type": "stream",
     "text": [
      "Training score: 0.805849008171\n",
      "Test score: 0.798172035233\n",
      "\n",
      "\n",
      "Actual mean of the test set: 0.232793845736\n",
      "Predicted mean of the test set: 0.235460139889\n",
      "Accuracy of prediction of the mean: 0.988546543639\n",
      "\n",
      "\n",
      "Actual std of the test set: 0.18405219248\n",
      "Predicted std of the test set: 0.164005113119\n",
      "Accuracy of prediction of the std: 0.891079377589\n",
      "\n",
      "\n",
      "Wall time: 44min 41s\n"
     ]
    }
   ],
   "source": [
    "%%time\n",
    "\n",
    "\n",
    "mlpreg = MLPRegressor(alpha = 0.0001, hidden_layer_sizes=(100, 100, ), activation='tanh',\n",
    "                      learning_rate = 'adaptive', learning_rate_init=0.001)\n",
    "\n",
    "# use the StandardScaler\n",
    "X =  StandardScaler().fit_transform(X)\n",
    "scaler = StandardScaler().fit(y)\n",
    "y =  scaler.transform(y)\n",
    "\n",
    "\n",
    "X_train, X_test, y_train, y_test = train_test_split(X, y, test_size=0.3, random_state = 45, \n",
    "                                                    stratify = None)\n",
    "\n",
    "mlpreg.fit(X_train, y_train)\n",
    "\n",
    "\n",
    "y_train_pred = mlpreg.predict(X_train)\n",
    "y_test_pred = mlpreg.predict(X_test)\n",
    "\n",
    "# compute the coefficients of determination\n",
    "mlpreg_training_score = mlpreg.score(X_train, y_train)\n",
    "mlpreg_test_score = mlpreg.score(X_test, y_test)\n",
    "\n",
    "#scale back the target variable\n",
    "y_test = scaler.inverse_transform(y_test)\n",
    "y_test_pred = scaler.inverse_transform(y_test_pred)\n",
    "\n",
    "\n",
    "y_test_mean_mlp =  y_test.mean()\n",
    "y_test_pred_mean_mlp =  y_test_pred.mean()\n",
    "y_test_mean_accur_mlp = accur_func(y_test_pred_mean_mlp, y_test_mean_mlp)\n",
    "\n",
    "y_test_std_mlp =  y_test.std()\n",
    "y_test_pred_std_mlp =  y_test_pred.std()\n",
    "y_test_std_accur_mlp = accur_func(y_test_pred_std_mlp, y_test_std_mlp)\n",
    "\n",
    "\n",
    "print('Training score:', mlpreg_training_score)\n",
    "print('Test score:', mlpreg_test_score)\n",
    "\n",
    "\n",
    "print('\\n')\n",
    "print('Actual mean of the test set:', y_test_mean_mlp)\n",
    "print('Predicted mean of the test set:', y_test_pred_mean_mlp)\n",
    "print('Accuracy of prediction of the mean:', y_test_mean_accur_mlp)\n",
    "\n",
    "print('\\n')\n",
    "print('Actual std of the test set:', y_test_std_mlp)\n",
    "print('Predicted std of the test set:', y_test_pred_std_mlp)\n",
    "print('Accuracy of prediction of the std:', y_test_std_accur_mlp)\n",
    "print('\\n')"
   ]
  },
  {
   "cell_type": "code",
   "execution_count": 16,
   "metadata": {
    "collapsed": false
   },
   "outputs": [
    {
     "data": {
      "text/plain": [
       "93.97265625"
      ]
     },
     "execution_count": 16,
     "metadata": {},
     "output_type": "execute_result"
    }
   ],
   "source": [
    "del(X, y, X_train, X_test, y_train, y_test)\n",
    "gc.collect()\n",
    "\n",
    "usage()"
   ]
  },
  {
   "cell_type": "markdown",
   "metadata": {},
   "source": [
    "The results of using Multilayer Perceptron Regression are summarized below. It is possible that they can be further improved by increasing the sizes of layers, as well as the number of elements in them. It is possible that one needs to simply find the appropriate relation between these two parameters as a result of fine tuning. This will require, however, more powerfull computational resources, and the necessity to parallelize the process of learning which is beyond the scope of this project."
   ]
  },
  {
   "cell_type": "code",
   "execution_count": 17,
   "metadata": {
    "collapsed": false
   },
   "outputs": [
    {
     "data": {
      "text/html": [
       "<div>\n",
       "<table border=\"1\" class=\"dataframe\">\n",
       "  <thead>\n",
       "    <tr style=\"text-align: right;\">\n",
       "      <th></th>\n",
       "      <th>Characteristics</th>\n",
       "      <th>Mulilayer Perceptron</th>\n",
       "    </tr>\n",
       "  </thead>\n",
       "  <tbody>\n",
       "    <tr>\n",
       "      <th>0</th>\n",
       "      <td>Training score</td>\n",
       "      <td>0.805849</td>\n",
       "    </tr>\n",
       "    <tr>\n",
       "      <th>1</th>\n",
       "      <td>Test score</td>\n",
       "      <td>0.798172</td>\n",
       "    </tr>\n",
       "    <tr>\n",
       "      <th>2</th>\n",
       "      <td>Actual mean of the test set</td>\n",
       "      <td>0.232794</td>\n",
       "    </tr>\n",
       "    <tr>\n",
       "      <th>3</th>\n",
       "      <td>Predicted mean of the test set</td>\n",
       "      <td>0.235460</td>\n",
       "    </tr>\n",
       "    <tr>\n",
       "      <th>4</th>\n",
       "      <td>Accuracy of prediction of the mean</td>\n",
       "      <td>0.988547</td>\n",
       "    </tr>\n",
       "    <tr>\n",
       "      <th>5</th>\n",
       "      <td>Actual std of the test set</td>\n",
       "      <td>0.184052</td>\n",
       "    </tr>\n",
       "    <tr>\n",
       "      <th>6</th>\n",
       "      <td>Predicted std of the test set</td>\n",
       "      <td>0.164005</td>\n",
       "    </tr>\n",
       "    <tr>\n",
       "      <th>7</th>\n",
       "      <td>Accuracy of prediction of the std</td>\n",
       "      <td>0.891079</td>\n",
       "    </tr>\n",
       "  </tbody>\n",
       "</table>\n",
       "</div>"
      ],
      "text/plain": [
       "                      Characteristics  Mulilayer Perceptron\n",
       "0                      Training score              0.805849\n",
       "1                          Test score              0.798172\n",
       "2         Actual mean of the test set              0.232794\n",
       "3      Predicted mean of the test set              0.235460\n",
       "4  Accuracy of prediction of the mean              0.988547\n",
       "5          Actual std of the test set              0.184052\n",
       "6       Predicted std of the test set              0.164005\n",
       "7   Accuracy of prediction of the std              0.891079"
      ]
     },
     "execution_count": 17,
     "metadata": {},
     "output_type": "execute_result"
    }
   ],
   "source": [
    "charac = ['Training score', 'Test score', 'Actual mean of the test set',\n",
    "         'Predicted mean of the test set', 'Accuracy of prediction of the mean',\n",
    "         'Actual std of the test set', 'Predicted std of the test set', \n",
    "          'Accuracy of prediction of the std']\n",
    "\n",
    "values_mlp = [mlpreg_training_score, mlpreg_test_score, y_test_mean_mlp, y_test_pred_mean_mlp,\n",
    "             y_test_mean_accur_mlp, y_test_std_mlp,\n",
    "             y_test_pred_std_mlp, y_test_std_accur_mlp ]\n",
    "\n",
    "\n",
    "\n",
    "comptable_neuron = pd.DataFrame({'Characteristics': charac, 'Multilayer Perceptron': values_mlp})\n",
    "\n",
    "\n",
    "writer30 = pd.ExcelWriter('comptable_neuron.xlsx')\n",
    "comptable_neuron.to_excel(writer30)\n",
    "writer30.save()\n",
    "\n",
    "comptable_neuron.to_csv('comptable_neuron.csv')\n",
    "\n",
    "comptable_neuron"
   ]
  },
  {
   "cell_type": "code",
   "execution_count": 18,
   "metadata": {
    "collapsed": false
   },
   "outputs": [
    {
     "name": "stdout",
     "output_type": "stream",
     "text": [
      "--- Time to execute the program is 52.11184963782628 minutes ---\n"
     ]
    }
   ],
   "source": [
    "print(\"--- Time to execute the program is {} minutes ---\".format((time.time() - start_time)/60))"
   ]
  }
 ],
 "metadata": {
  "kernelspec": {
   "display_name": "Python 3",
   "language": "python",
   "name": "python3"
  },
  "language_info": {
   "codemirror_mode": {
    "name": "ipython",
    "version": 3
   },
   "file_extension": ".py",
   "mimetype": "text/x-python",
   "name": "python",
   "nbconvert_exporter": "python",
   "pygments_lexer": "ipython3",
   "version": "3.6.0"
  }
 },
 "nbformat": 4,
 "nbformat_minor": 2
}
