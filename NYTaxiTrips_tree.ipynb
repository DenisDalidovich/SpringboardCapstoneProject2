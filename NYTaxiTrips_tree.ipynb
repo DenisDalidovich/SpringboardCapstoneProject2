{
 "cells": [
  {
   "cell_type": "markdown",
   "metadata": {},
   "source": [
    "## Predictive Modelling: Decision Tree Regression"
   ]
  },
  {
   "cell_type": "markdown",
   "metadata": {},
   "source": [
    "In this section we will use Decision Tree Regression to predict the trip duration given the dataset prepared earlier. From the very beginning we will be using the truncated dataset in which the geographical distance between pickup and dropoff locations is smaller than 60 km, and the trip durations are limited to 6 hours."
   ]
  },
  {
   "cell_type": "code",
   "execution_count": 1,
   "metadata": {
    "collapsed": true
   },
   "outputs": [],
   "source": [
    "import time\n",
    "start_time = time.time()"
   ]
  },
  {
   "cell_type": "code",
   "execution_count": 2,
   "metadata": {
    "collapsed": true
   },
   "outputs": [],
   "source": [
    "import pandas as pd\n",
    "import numpy as np\n",
    "\n",
    "import matplotlib.pyplot as plt"
   ]
  },
  {
   "cell_type": "code",
   "execution_count": 3,
   "metadata": {
    "collapsed": true
   },
   "outputs": [],
   "source": [
    "#import the garbage collection module\n",
    "\n",
    "import gc\n",
    "gc.enable()"
   ]
  },
  {
   "cell_type": "code",
   "execution_count": 4,
   "metadata": {
    "collapsed": false
   },
   "outputs": [
    {
     "name": "stderr",
     "output_type": "stream",
     "text": [
      "C:\\ProgramData\\Anaconda3\\lib\\site-packages\\sklearn\\cross_validation.py:44: DeprecationWarning: This module was deprecated in version 0.18 in favor of the model_selection module into which all the refactored classes and functions are moved. Also note that the interface of the new CV iterators are different from that of this module. This module will be removed in 0.20.\n",
      "  \"This module will be removed in 0.20.\", DeprecationWarning)\n"
     ]
    }
   ],
   "source": [
    "from sklearn.tree import DecisionTreeRegressor\n",
    "\n",
    "from sklearn.cross_validation import train_test_split\n",
    "from sklearn.preprocessing import StandardScaler\n",
    "from sklearn.metrics import mean_squared_error, r2_score\n"
   ]
  },
  {
   "cell_type": "code",
   "execution_count": 5,
   "metadata": {
    "collapsed": false
   },
   "outputs": [
    {
     "data": {
      "text/plain": [
       "113.84375"
      ]
     },
     "execution_count": 5,
     "metadata": {},
     "output_type": "execute_result"
    }
   ],
   "source": [
    "#import the module that shows the memory usage\n",
    "\n",
    "import os, psutil\n",
    "\n",
    "def usage():\n",
    "    process = psutil.Process(os.getpid())\n",
    "    return process.memory_info()[0] / float(2 ** 20)\n",
    "    \n",
    "usage()"
   ]
  },
  {
   "cell_type": "code",
   "execution_count": 6,
   "metadata": {
    "collapsed": false
   },
   "outputs": [
    {
     "data": {
      "text/plain": [
       "269.234375"
      ]
     },
     "execution_count": 6,
     "metadata": {},
     "output_type": "execute_result"
    }
   ],
   "source": [
    "df_modif = pd.read_csv('NYCTripDuration_modified.csv')\n",
    "\n",
    "#df_modif.columns\n",
    "df_modif = df_modif.drop(['Unnamed: 0','effective_speed(kmph)'], axis = 1)\n",
    "\n",
    "usage()"
   ]
  },
  {
   "cell_type": "code",
   "execution_count": 7,
   "metadata": {
    "collapsed": false
   },
   "outputs": [
    {
     "data": {
      "text/plain": [
       "7"
      ]
     },
     "execution_count": 7,
     "metadata": {},
     "output_type": "execute_result"
    }
   ],
   "source": [
    "#shuffle the dataframe arbitrarily\n",
    "df_modif.sample(frac=1, random_state = 20).reset_index(drop=True, inplace = True)\n",
    "\n",
    "gc.collect()"
   ]
  },
  {
   "cell_type": "code",
   "execution_count": 8,
   "metadata": {
    "collapsed": true
   },
   "outputs": [],
   "source": [
    "# Create the function that calculates the accuracy of the predicted quantities.\n",
    "\n",
    "def accur_func(y_pred, y):\n",
    "    return 1.0 - (np.abs(y_pred - y)/np.abs(y))"
   ]
  },
  {
   "cell_type": "code",
   "execution_count": 9,
   "metadata": {
    "collapsed": true
   },
   "outputs": [],
   "source": [
    "# create the list containing the relevant columns\n",
    "column_names = df_modif.drop('trip_duration(hrs)',axis =1).columns.values"
   ]
  },
  {
   "cell_type": "code",
   "execution_count": 10,
   "metadata": {
    "collapsed": true
   },
   "outputs": [],
   "source": [
    "df_modif = df_modif[(df_modif['geographical_dist(km)'] < 60) & \\\n",
    "                    (df_modif['trip_duration(hrs)'] < 6)]\n",
    "\n",
    "X = df_modif.drop('trip_duration(hrs)', axis = 1).values\n",
    "\n",
    "y = df_modif['trip_duration(hrs)'].values"
   ]
  },
  {
   "cell_type": "code",
   "execution_count": 11,
   "metadata": {
    "collapsed": false
   },
   "outputs": [
    {
     "data": {
      "text/plain": [
       "424.26171875"
      ]
     },
     "execution_count": 11,
     "metadata": {},
     "output_type": "execute_result"
    }
   ],
   "source": [
    "gc.collect()\n",
    "usage()"
   ]
  },
  {
   "cell_type": "markdown",
   "metadata": {},
   "source": [
    "We will use the Decision Tree Regressor with default values of parameters. We see that the training score is 0.999, while the test score is 0.547. This confirms that Decision Tree regressor is prone to overfitting. The accuracy of predictions for mean and standard ceviation is very high, however, \n",
    "98.56 and 97.49 percent respectively."
   ]
  },
  {
   "cell_type": "code",
   "execution_count": 12,
   "metadata": {
    "collapsed": false
   },
   "outputs": [
    {
     "name": "stdout",
     "output_type": "stream",
     "text": [
      "Training score: 0.999999916641\n",
      "Test score: 0.547308294622\n",
      "\n",
      "\n",
      "Actual mean of the test set: 0.232793845736\n",
      "Predicted mean of the test set: 0.236139810602\n",
      "Accuracy of prediction of the mean: 0.985626918719\n",
      "\n",
      "\n",
      "Actual std of the test set: 0.18405219248\n",
      "Predicted std of the test set: 0.18867155115\n",
      "Accuracy of prediction of the std: 0.974901909026\n",
      "\n",
      "\n",
      "Wall time: 1min 11s\n"
     ]
    }
   ],
   "source": [
    "%%time\n",
    "\n",
    "\n",
    "dctreg = DecisionTreeRegressor(random_state = 50)\n",
    "\n",
    "#X =  StandardScaler().fit_transform(X)\n",
    "#y =  StandardScaler().fit_transform(y)\n",
    "\n",
    "X_train, X_test, y_train, y_test = train_test_split(X, y, test_size=0.3, random_state = 45, \n",
    "                                                    stratify = None)\n",
    "\n",
    "dctreg.fit(X_train, y_train)\n",
    "\n",
    "\n",
    "y_train_pred = dctreg.predict(X_train)\n",
    "y_test_pred = dctreg.predict(X_test)\n",
    "\n",
    "# compute the coefficients of determination\n",
    "dctreg_training_score = dctreg.score(X_train, y_train)\n",
    "dctreg_test_score = dctreg.score(X_test, y_test)\n",
    "\n",
    "y_test_mean_dct =  y_test.mean()\n",
    "y_test_pred_mean_dct =  y_test_pred.mean()\n",
    "y_test_mean_accur_dct = accur_func(y_test_pred_mean_dct, y_test_mean_dct)\n",
    "\n",
    "y_test_std_dct =  y_test.std()\n",
    "y_test_pred_std_dct =  y_test_pred.std()\n",
    "y_test_std_accur_dct = accur_func(y_test_pred_std_dct, y_test_std_dct)\n",
    "\n",
    "print('Training score:', dctreg_training_score)\n",
    "print('Test score:', dctreg_test_score)\n",
    "\n",
    "print('\\n')\n",
    "print('Actual mean of the test set:', y_test_mean_dct)\n",
    "print('Predicted mean of the test set:', y_test_pred_mean_dct)\n",
    "print('Accuracy of prediction of the mean:', y_test_mean_accur_dct)\n",
    "\n",
    "print('\\n')\n",
    "print('Actual std of the test set:', y_test_std_dct)\n",
    "print('Predicted std of the test set:', y_test_pred_std_dct)\n",
    "print('Accuracy of prediction of the std:', y_test_std_accur_dct)\n",
    "print('\\n')\n"
   ]
  },
  {
   "cell_type": "markdown",
   "metadata": {},
   "source": [
    "Examining the relative importances of features (their sum is equal to one in this method), wee see that the most important feature is 'geographical_dist(km)', followed by 'pickup_hour' and 'dropoff_latitude'. One should pay attention to the importance of 'pickup_hour' feature; this feature had relatively low importance in the linear methods. "
   ]
  },
  {
   "cell_type": "code",
   "execution_count": 13,
   "metadata": {
    "collapsed": false
   },
   "outputs": [
    {
     "data": {
      "text/html": [
       "<div>\n",
       "<table border=\"1\" class=\"dataframe\">\n",
       "  <thead>\n",
       "    <tr style=\"text-align: right;\">\n",
       "      <th></th>\n",
       "      <th>COLUMN_NAME</th>\n",
       "      <th>DCTREG_COEFF</th>\n",
       "    </tr>\n",
       "  </thead>\n",
       "  <tbody>\n",
       "    <tr>\n",
       "      <th>0</th>\n",
       "      <td>geographical_dist(km)</td>\n",
       "      <td>0.651356</td>\n",
       "    </tr>\n",
       "    <tr>\n",
       "      <th>1</th>\n",
       "      <td>pickup_hour</td>\n",
       "      <td>0.073308</td>\n",
       "    </tr>\n",
       "    <tr>\n",
       "      <th>2</th>\n",
       "      <td>dropoff_latitude</td>\n",
       "      <td>0.051921</td>\n",
       "    </tr>\n",
       "    <tr>\n",
       "      <th>3</th>\n",
       "      <td>pickup_longitude</td>\n",
       "      <td>0.046204</td>\n",
       "    </tr>\n",
       "    <tr>\n",
       "      <th>4</th>\n",
       "      <td>dropoff_longitude</td>\n",
       "      <td>0.045170</td>\n",
       "    </tr>\n",
       "    <tr>\n",
       "      <th>5</th>\n",
       "      <td>pickup_latitude</td>\n",
       "      <td>0.035911</td>\n",
       "    </tr>\n",
       "    <tr>\n",
       "      <th>6</th>\n",
       "      <td>pickup_day_of_week</td>\n",
       "      <td>0.028917</td>\n",
       "    </tr>\n",
       "    <tr>\n",
       "      <th>7</th>\n",
       "      <td>pickup_minute</td>\n",
       "      <td>0.022425</td>\n",
       "    </tr>\n",
       "    <tr>\n",
       "      <th>8</th>\n",
       "      <td>pickup_day</td>\n",
       "      <td>0.021194</td>\n",
       "    </tr>\n",
       "    <tr>\n",
       "      <th>9</th>\n",
       "      <td>pickup_month</td>\n",
       "      <td>0.014274</td>\n",
       "    </tr>\n",
       "    <tr>\n",
       "      <th>10</th>\n",
       "      <td>passenger_count</td>\n",
       "      <td>0.005800</td>\n",
       "    </tr>\n",
       "    <tr>\n",
       "      <th>11</th>\n",
       "      <td>vendor_id</td>\n",
       "      <td>0.002874</td>\n",
       "    </tr>\n",
       "    <tr>\n",
       "      <th>12</th>\n",
       "      <td>store_and_fwd_flag</td>\n",
       "      <td>0.000647</td>\n",
       "    </tr>\n",
       "  </tbody>\n",
       "</table>\n",
       "</div>"
      ],
      "text/plain": [
       "              COLUMN_NAME  DCTREG_COEFF\n",
       "0   geographical_dist(km)      0.651356\n",
       "1             pickup_hour      0.073308\n",
       "2        dropoff_latitude      0.051921\n",
       "3        pickup_longitude      0.046204\n",
       "4       dropoff_longitude      0.045170\n",
       "5         pickup_latitude      0.035911\n",
       "6      pickup_day_of_week      0.028917\n",
       "7           pickup_minute      0.022425\n",
       "8              pickup_day      0.021194\n",
       "9            pickup_month      0.014274\n",
       "10        passenger_count      0.005800\n",
       "11              vendor_id      0.002874\n",
       "12     store_and_fwd_flag      0.000647"
      ]
     },
     "execution_count": 13,
     "metadata": {},
     "output_type": "execute_result"
    }
   ],
   "source": [
    "# examining the feature importances\n",
    "\n",
    "df_dctreg_coeff = pd.DataFrame(column_names, columns = ['COLUMN_NAME'])\n",
    "df_dctreg_coeff['DCTREG_FEATURES'] = np.transpose(dctreg.feature_importances_)\n",
    "\n",
    "df_dctreg_coeff.sort_values('DCTREG_FEATURES', ascending = False, inplace = True)\n",
    "df_dctreg_coeff.reset_index(drop = True, inplace = True)\n",
    "\n",
    "writer3 = pd.ExcelWriter('dctreg_features.xlsx')\n",
    "df_dctreg_coeff.to_excel(writer3)\n",
    "writer3.save()\n",
    "\n",
    "df_dctreg_coeff"
   ]
  },
  {
   "cell_type": "code",
   "execution_count": 14,
   "metadata": {
    "collapsed": false
   },
   "outputs": [
    {
     "data": {
      "text/plain": [
       "557.38671875"
      ]
     },
     "execution_count": 14,
     "metadata": {},
     "output_type": "execute_result"
    }
   ],
   "source": [
    "del(X_train, X_test, y_train, y_test)\n",
    "gc.collect()\n",
    "\n",
    "usage()"
   ]
  },
  {
   "cell_type": "markdown",
   "metadata": {},
   "source": [
    "## Predictive Modelling: Random Forest Regression"
   ]
  },
  {
   "cell_type": "markdown",
   "metadata": {},
   "source": [
    "In this section we will use Decision Tree Regression to predict the trip duration. We again, from the very beginning we will be using the truncated dataset in which the geographical distance between pickup and dropoff locations is smaller than 60 km, and the trip durations are limited to 6 hours."
   ]
  },
  {
   "cell_type": "code",
   "execution_count": 15,
   "metadata": {
    "collapsed": false
   },
   "outputs": [],
   "source": [
    "from sklearn.ensemble import RandomForestRegressor"
   ]
  },
  {
   "cell_type": "code",
   "execution_count": 16,
   "metadata": {
    "collapsed": true
   },
   "outputs": [],
   "source": [
    "df_modif = df_modif[(df_modif['geographical_dist(km)'] < 60) & \\\n",
    "                    (df_modif['trip_duration(hrs)'] < 6)]\n",
    "\n",
    "X = df_modif.drop('trip_duration(hrs)', axis = 1).values\n",
    "\n",
    "y = df_modif['trip_duration(hrs)'].values"
   ]
  },
  {
   "cell_type": "markdown",
   "metadata": {},
   "source": [
    "The Random Forest Regressor is run with default values of parameters. We see that the training score is 0.958, while the test score is 0.764, which is much better than the result obtained using Decision Tree regressor. The accuracy of predictions for mean and standard ceviation are also acceptable, 98.51 and 90.47 percent respectively. Note that we did not use the scaling of features for both Decision Tree and Random Forest methods, because the accuracy is almost not affected by such a scaling."
   ]
  },
  {
   "cell_type": "code",
   "execution_count": 17,
   "metadata": {
    "collapsed": false
   },
   "outputs": [
    {
     "name": "stdout",
     "output_type": "stream",
     "text": [
      "Training score: 0.958195278787\n",
      "Test score: 0.764729328433\n",
      "\n",
      "\n",
      "Actual mean of the test set: 0.232793845736\n",
      "Predicted mean of the test set: 0.236244040919\n",
      "Accuracy of prediction of the mean: 0.985179182154\n",
      "\n",
      "\n",
      "Actual std of the test set: 0.18405219248\n",
      "Predicted std of the test set: 0.166518983201\n",
      "Accuracy of prediction of the std: 0.904737840703\n",
      "\n",
      "\n",
      "Wall time: 8min 16s\n"
     ]
    }
   ],
   "source": [
    "%%time\n",
    "\n",
    "\n",
    "rfreg = RandomForestRegressor(random_state = 50)\n",
    "\n",
    "#X =  StandardScaler().fit_transform(X)\n",
    "#y =  StandardScaler().fit_transform(y)\n",
    "\n",
    "X_train, X_test, y_train, y_test = train_test_split(X, y, test_size=0.3, random_state = 45, \n",
    "                                                    stratify = None)\n",
    "\n",
    "rfreg.fit(X_train, y_train)\n",
    "\n",
    "\n",
    "y_train_pred = rfreg.predict(X_train)\n",
    "y_test_pred = rfreg.predict(X_test)\n",
    "\n",
    "# compute the coefficients of determination\n",
    "rfreg_training_score = rfreg.score(X_train, y_train)\n",
    "rfreg_test_score = rfreg.score(X_test, y_test)\n",
    "\n",
    "y_test_mean_rf =  y_test.mean()\n",
    "y_test_pred_mean_rf =  y_test_pred.mean()\n",
    "y_test_mean_accur_rf = accur_func(y_test_pred_mean_rf, y_test_mean_rf)\n",
    "\n",
    "y_test_std_rf =  y_test.std()\n",
    "y_test_pred_std_rf =  y_test_pred.std()\n",
    "y_test_std_accur_rf = accur_func(y_test_pred_std_rf, y_test_std_rf)\n",
    "\n",
    "print('Training score:', rfreg_training_score)\n",
    "print('Test score:', rfreg_test_score)\n",
    "\n",
    "\n",
    "print('\\n')\n",
    "print('Actual mean of the test set:', y_test_mean_rf)\n",
    "print('Predicted mean of the test set:', y_test_pred_mean_rf)\n",
    "print('Accuracy of prediction of the mean:', y_test_mean_accur_rf)\n",
    "\n",
    "print('\\n')\n",
    "print('Actual std of the test set:', y_test_std_rf)\n",
    "print('Predicted std of the test set:', y_test_pred_std_rf)\n",
    "print('Accuracy of prediction of the std:', y_test_std_accur_rf)\n",
    "print('\\n')"
   ]
  },
  {
   "cell_type": "markdown",
   "metadata": {},
   "source": [
    "The relative importance of features is the same as in the Decision Tree method, although numerical values for feature importances are slightly different."
   ]
  },
  {
   "cell_type": "code",
   "execution_count": 18,
   "metadata": {
    "collapsed": false,
    "scrolled": true
   },
   "outputs": [
    {
     "data": {
      "text/html": [
       "<div>\n",
       "<table border=\"1\" class=\"dataframe\">\n",
       "  <thead>\n",
       "    <tr style=\"text-align: right;\">\n",
       "      <th></th>\n",
       "      <th>COLUMN_NAME</th>\n",
       "      <th>RFREG_COEFF</th>\n",
       "    </tr>\n",
       "  </thead>\n",
       "  <tbody>\n",
       "    <tr>\n",
       "      <th>0</th>\n",
       "      <td>geographical_dist(km)</td>\n",
       "      <td>0.652705</td>\n",
       "    </tr>\n",
       "    <tr>\n",
       "      <th>1</th>\n",
       "      <td>pickup_hour</td>\n",
       "      <td>0.073319</td>\n",
       "    </tr>\n",
       "    <tr>\n",
       "      <th>2</th>\n",
       "      <td>dropoff_latitude</td>\n",
       "      <td>0.051691</td>\n",
       "    </tr>\n",
       "    <tr>\n",
       "      <th>3</th>\n",
       "      <td>dropoff_longitude</td>\n",
       "      <td>0.046450</td>\n",
       "    </tr>\n",
       "    <tr>\n",
       "      <th>4</th>\n",
       "      <td>pickup_longitude</td>\n",
       "      <td>0.045452</td>\n",
       "    </tr>\n",
       "    <tr>\n",
       "      <th>5</th>\n",
       "      <td>pickup_latitude</td>\n",
       "      <td>0.035374</td>\n",
       "    </tr>\n",
       "    <tr>\n",
       "      <th>6</th>\n",
       "      <td>pickup_day_of_week</td>\n",
       "      <td>0.029227</td>\n",
       "    </tr>\n",
       "    <tr>\n",
       "      <th>7</th>\n",
       "      <td>pickup_minute</td>\n",
       "      <td>0.021646</td>\n",
       "    </tr>\n",
       "    <tr>\n",
       "      <th>8</th>\n",
       "      <td>pickup_day</td>\n",
       "      <td>0.020097</td>\n",
       "    </tr>\n",
       "    <tr>\n",
       "      <th>9</th>\n",
       "      <td>pickup_month</td>\n",
       "      <td>0.014454</td>\n",
       "    </tr>\n",
       "    <tr>\n",
       "      <th>10</th>\n",
       "      <td>passenger_count</td>\n",
       "      <td>0.006174</td>\n",
       "    </tr>\n",
       "    <tr>\n",
       "      <th>11</th>\n",
       "      <td>vendor_id</td>\n",
       "      <td>0.002814</td>\n",
       "    </tr>\n",
       "    <tr>\n",
       "      <th>12</th>\n",
       "      <td>store_and_fwd_flag</td>\n",
       "      <td>0.000599</td>\n",
       "    </tr>\n",
       "  </tbody>\n",
       "</table>\n",
       "</div>"
      ],
      "text/plain": [
       "              COLUMN_NAME  RFREG_COEFF\n",
       "0   geographical_dist(km)     0.652705\n",
       "1             pickup_hour     0.073319\n",
       "2        dropoff_latitude     0.051691\n",
       "3       dropoff_longitude     0.046450\n",
       "4        pickup_longitude     0.045452\n",
       "5         pickup_latitude     0.035374\n",
       "6      pickup_day_of_week     0.029227\n",
       "7           pickup_minute     0.021646\n",
       "8              pickup_day     0.020097\n",
       "9            pickup_month     0.014454\n",
       "10        passenger_count     0.006174\n",
       "11              vendor_id     0.002814\n",
       "12     store_and_fwd_flag     0.000599"
      ]
     },
     "execution_count": 18,
     "metadata": {},
     "output_type": "execute_result"
    }
   ],
   "source": [
    "# examining the coefficients\n",
    "\n",
    "df_rfreg_coeff = pd.DataFrame(column_names, columns = ['COLUMN_NAME'])\n",
    "df_rfreg_coeff['RFREG_FEATURES'] = np.transpose(rfreg.feature_importances_)\n",
    "\n",
    "df_rfreg_coeff.sort_values('RFREG_FEATURES', ascending = False, inplace = True)\n",
    "df_rfreg_coeff.reset_index(drop = True, inplace = True)\n",
    "\n",
    "writer4 = pd.ExcelWriter('rfreg_features.xlsx')\n",
    "df_rfreg_coeff.to_excel(writer4)\n",
    "writer4.save()\n",
    "\n",
    "df_rfreg_coeff"
   ]
  },
  {
   "cell_type": "code",
   "execution_count": 19,
   "metadata": {
    "collapsed": false
   },
   "outputs": [
    {
     "data": {
      "text/plain": [
       "1308.12890625"
      ]
     },
     "execution_count": 19,
     "metadata": {},
     "output_type": "execute_result"
    }
   ],
   "source": [
    "del(X_train, X_test, y_train, y_test)\n",
    "gc.collect()\n",
    "\n",
    "usage()"
   ]
  },
  {
   "cell_type": "markdown",
   "metadata": {},
   "source": [
    "The results are summarized in the table below. We see that applying Random Forest regression leads to relatively acceptable accuracy. One may think of applying PolynomialFeatures() preprocessing to introduce square interactions between the features and try to further increase the accuracy. However, this will require larger computational resources."
   ]
  },
  {
   "cell_type": "code",
   "execution_count": 20,
   "metadata": {
    "collapsed": false
   },
   "outputs": [
    {
     "data": {
      "text/html": [
       "<div>\n",
       "<table border=\"1\" class=\"dataframe\">\n",
       "  <thead>\n",
       "    <tr style=\"text-align: right;\">\n",
       "      <th></th>\n",
       "      <th>Characteristics</th>\n",
       "      <th>Decision Tree</th>\n",
       "      <th>Random Forest</th>\n",
       "    </tr>\n",
       "  </thead>\n",
       "  <tbody>\n",
       "    <tr>\n",
       "      <th>0</th>\n",
       "      <td>Training score</td>\n",
       "      <td>1.000000</td>\n",
       "      <td>0.958195</td>\n",
       "    </tr>\n",
       "    <tr>\n",
       "      <th>1</th>\n",
       "      <td>Test score</td>\n",
       "      <td>0.547308</td>\n",
       "      <td>0.764729</td>\n",
       "    </tr>\n",
       "    <tr>\n",
       "      <th>2</th>\n",
       "      <td>Actual mean of the test set</td>\n",
       "      <td>0.232794</td>\n",
       "      <td>0.232794</td>\n",
       "    </tr>\n",
       "    <tr>\n",
       "      <th>3</th>\n",
       "      <td>Predicted mean of the test set</td>\n",
       "      <td>0.236140</td>\n",
       "      <td>0.236244</td>\n",
       "    </tr>\n",
       "    <tr>\n",
       "      <th>4</th>\n",
       "      <td>Accuracy of prediction of the mean</td>\n",
       "      <td>0.985627</td>\n",
       "      <td>0.985179</td>\n",
       "    </tr>\n",
       "    <tr>\n",
       "      <th>5</th>\n",
       "      <td>Actual std of the test set</td>\n",
       "      <td>0.184052</td>\n",
       "      <td>0.184052</td>\n",
       "    </tr>\n",
       "    <tr>\n",
       "      <th>6</th>\n",
       "      <td>Predicted std of the test set</td>\n",
       "      <td>0.188672</td>\n",
       "      <td>0.166519</td>\n",
       "    </tr>\n",
       "    <tr>\n",
       "      <th>7</th>\n",
       "      <td>Accuracy of prediction of the std</td>\n",
       "      <td>0.974902</td>\n",
       "      <td>0.904738</td>\n",
       "    </tr>\n",
       "  </tbody>\n",
       "</table>\n",
       "</div>"
      ],
      "text/plain": [
       "                      Characteristics  Decision Tree  Random Forest\n",
       "0                      Training score       1.000000       0.958195\n",
       "1                          Test score       0.547308       0.764729\n",
       "2         Actual mean of the test set       0.232794       0.232794\n",
       "3      Predicted mean of the test set       0.236140       0.236244\n",
       "4  Accuracy of prediction of the mean       0.985627       0.985179\n",
       "5          Actual std of the test set       0.184052       0.184052\n",
       "6       Predicted std of the test set       0.188672       0.166519\n",
       "7   Accuracy of prediction of the std       0.974902       0.904738"
      ]
     },
     "execution_count": 20,
     "metadata": {},
     "output_type": "execute_result"
    }
   ],
   "source": [
    "charac = ['Training score', 'Test score', 'Actual mean of the test set',\n",
    "         'Predicted mean of the test set', 'Accuracy of prediction of the mean',\n",
    "         'Actual std of the test set', 'Predicted std of the test set', \n",
    "          'Accuracy of prediction of the std']\n",
    "\n",
    "values_dct = [dctreg_training_score, dctreg_test_score, y_test_mean_dct, y_test_pred_mean_dct,\n",
    "             y_test_mean_accur_dct, y_test_std_dct,\n",
    "             y_test_pred_std_dct, y_test_std_accur_dct ]\n",
    "\n",
    "values_rf = [rfreg_training_score, rfreg_test_score, y_test_mean_rf, y_test_pred_mean_rf,\n",
    "             y_test_mean_accur_rf, y_test_std_rf,\n",
    "             y_test_pred_std_rf, y_test_std_accur_rf ]\n",
    "\n",
    "comptable_tree = pd.DataFrame({'Characteristics': charac, 'Decision Tree': values_dct, \n",
    "                                'Random Forest': values_rf})\n",
    "\n",
    "\n",
    "writer20 = pd.ExcelWriter('comptable_tree.xlsx')\n",
    "comptable_tree.to_excel(writer20)\n",
    "writer20.save()\n",
    "\n",
    "comptable_tree.to_csv('comptable_tree.csv')\n",
    "\n",
    "comptable_tree"
   ]
  },
  {
   "cell_type": "code",
   "execution_count": 21,
   "metadata": {
    "collapsed": false
   },
   "outputs": [
    {
     "name": "stdout",
     "output_type": "stream",
     "text": [
      "--- Time to execute the program is 10.178076072533925 minutes ---\n"
     ]
    }
   ],
   "source": [
    "print(\"--- Time to execute the program is {} minutes ---\".format((time.time() - start_time)/60))"
   ]
  }
 ],
 "metadata": {
  "kernelspec": {
   "display_name": "Python 3",
   "language": "python",
   "name": "python3"
  },
  "language_info": {
   "codemirror_mode": {
    "name": "ipython",
    "version": 3
   },
   "file_extension": ".py",
   "mimetype": "text/x-python",
   "name": "python",
   "nbconvert_exporter": "python",
   "pygments_lexer": "ipython3",
   "version": "3.6.0"
  }
 },
 "nbformat": 4,
 "nbformat_minor": 2
}
